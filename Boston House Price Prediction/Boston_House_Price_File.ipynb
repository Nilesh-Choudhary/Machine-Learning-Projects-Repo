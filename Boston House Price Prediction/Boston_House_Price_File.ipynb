{
 "cells": [
  {
   "cell_type": "code",
   "execution_count": 1,
   "id": "4963f1b6",
   "metadata": {},
   "outputs": [],
   "source": [
    "# Importing the libraries \n",
    "import pandas as pd\n",
    "import numpy as np\n",
    "from sklearn import metrics\n",
    "import matplotlib.pyplot as plt\n",
    "import seaborn as sns\n",
    "%matplotlib inline\n",
    "import sklearn.datasets"
   ]
  },
  {
   "cell_type": "code",
   "execution_count": 2,
   "id": "96acac09",
   "metadata": {},
   "outputs": [],
   "source": [
    "df = pd.read_csv(\"boston_house.csv\")"
   ]
  },
  {
   "cell_type": "code",
   "execution_count": 3,
   "id": "ca8f1527",
   "metadata": {
    "scrolled": true
   },
   "outputs": [
    {
     "data": {
      "text/html": [
       "<div>\n",
       "<style scoped>\n",
       "    .dataframe tbody tr th:only-of-type {\n",
       "        vertical-align: middle;\n",
       "    }\n",
       "\n",
       "    .dataframe tbody tr th {\n",
       "        vertical-align: top;\n",
       "    }\n",
       "\n",
       "    .dataframe thead th {\n",
       "        text-align: right;\n",
       "    }\n",
       "</style>\n",
       "<table border=\"1\" class=\"dataframe\">\n",
       "  <thead>\n",
       "    <tr style=\"text-align: right;\">\n",
       "      <th></th>\n",
       "      <th>CRIM</th>\n",
       "      <th>ZN</th>\n",
       "      <th>INDUS</th>\n",
       "      <th>CHAS</th>\n",
       "      <th>NOX</th>\n",
       "      <th>RM</th>\n",
       "      <th>AGE</th>\n",
       "      <th>DIS</th>\n",
       "      <th>RAD</th>\n",
       "      <th>TAX</th>\n",
       "      <th>PTRATIO</th>\n",
       "      <th>B</th>\n",
       "      <th>LSTAT</th>\n",
       "      <th>PRICE</th>\n",
       "    </tr>\n",
       "  </thead>\n",
       "  <tbody>\n",
       "    <tr>\n",
       "      <th>0</th>\n",
       "      <td>0.00632</td>\n",
       "      <td>18.0</td>\n",
       "      <td>2.31</td>\n",
       "      <td>0.0</td>\n",
       "      <td>0.538</td>\n",
       "      <td>6.575</td>\n",
       "      <td>65.2</td>\n",
       "      <td>4.0900</td>\n",
       "      <td>1</td>\n",
       "      <td>296.0</td>\n",
       "      <td>15.3</td>\n",
       "      <td>396.90</td>\n",
       "      <td>4.98</td>\n",
       "      <td>24.0</td>\n",
       "    </tr>\n",
       "    <tr>\n",
       "      <th>1</th>\n",
       "      <td>0.02731</td>\n",
       "      <td>0.0</td>\n",
       "      <td>7.07</td>\n",
       "      <td>0.0</td>\n",
       "      <td>0.469</td>\n",
       "      <td>6.421</td>\n",
       "      <td>78.9</td>\n",
       "      <td>4.9671</td>\n",
       "      <td>2</td>\n",
       "      <td>242.0</td>\n",
       "      <td>17.8</td>\n",
       "      <td>396.90</td>\n",
       "      <td>9.14</td>\n",
       "      <td>21.6</td>\n",
       "    </tr>\n",
       "    <tr>\n",
       "      <th>2</th>\n",
       "      <td>0.02729</td>\n",
       "      <td>0.0</td>\n",
       "      <td>7.07</td>\n",
       "      <td>0.0</td>\n",
       "      <td>0.469</td>\n",
       "      <td>7.185</td>\n",
       "      <td>61.1</td>\n",
       "      <td>4.9671</td>\n",
       "      <td>2</td>\n",
       "      <td>242.0</td>\n",
       "      <td>17.8</td>\n",
       "      <td>392.83</td>\n",
       "      <td>4.03</td>\n",
       "      <td>34.7</td>\n",
       "    </tr>\n",
       "    <tr>\n",
       "      <th>3</th>\n",
       "      <td>0.03237</td>\n",
       "      <td>0.0</td>\n",
       "      <td>2.18</td>\n",
       "      <td>0.0</td>\n",
       "      <td>0.458</td>\n",
       "      <td>6.998</td>\n",
       "      <td>45.8</td>\n",
       "      <td>6.0622</td>\n",
       "      <td>3</td>\n",
       "      <td>222.0</td>\n",
       "      <td>18.7</td>\n",
       "      <td>394.63</td>\n",
       "      <td>2.94</td>\n",
       "      <td>33.4</td>\n",
       "    </tr>\n",
       "    <tr>\n",
       "      <th>4</th>\n",
       "      <td>0.06905</td>\n",
       "      <td>0.0</td>\n",
       "      <td>2.18</td>\n",
       "      <td>0.0</td>\n",
       "      <td>0.458</td>\n",
       "      <td>7.147</td>\n",
       "      <td>54.2</td>\n",
       "      <td>6.0622</td>\n",
       "      <td>3</td>\n",
       "      <td>222.0</td>\n",
       "      <td>18.7</td>\n",
       "      <td>396.90</td>\n",
       "      <td>5.33</td>\n",
       "      <td>36.2</td>\n",
       "    </tr>\n",
       "  </tbody>\n",
       "</table>\n",
       "</div>"
      ],
      "text/plain": [
       "      CRIM    ZN  INDUS  CHAS    NOX     RM   AGE     DIS  RAD    TAX  \\\n",
       "0  0.00632  18.0   2.31   0.0  0.538  6.575  65.2  4.0900    1  296.0   \n",
       "1  0.02731   0.0   7.07   0.0  0.469  6.421  78.9  4.9671    2  242.0   \n",
       "2  0.02729   0.0   7.07   0.0  0.469  7.185  61.1  4.9671    2  242.0   \n",
       "3  0.03237   0.0   2.18   0.0  0.458  6.998  45.8  6.0622    3  222.0   \n",
       "4  0.06905   0.0   2.18   0.0  0.458  7.147  54.2  6.0622    3  222.0   \n",
       "\n",
       "   PTRATIO       B  LSTAT  PRICE  \n",
       "0     15.3  396.90   4.98   24.0  \n",
       "1     17.8  396.90   9.14   21.6  \n",
       "2     17.8  392.83   4.03   34.7  \n",
       "3     18.7  394.63   2.94   33.4  \n",
       "4     18.7  396.90   5.33   36.2  "
      ]
     },
     "execution_count": 3,
     "metadata": {},
     "output_type": "execute_result"
    }
   ],
   "source": [
    "df.head()"
   ]
  },
  {
   "cell_type": "code",
   "execution_count": 4,
   "id": "7dfcd8c5",
   "metadata": {},
   "outputs": [
    {
     "data": {
      "text/plain": [
       "(506, 14)"
      ]
     },
     "execution_count": 4,
     "metadata": {},
     "output_type": "execute_result"
    }
   ],
   "source": [
    "df.shape"
   ]
  },
  {
   "cell_type": "code",
   "execution_count": 5,
   "id": "3cc68dae",
   "metadata": {
    "scrolled": true
   },
   "outputs": [
    {
     "data": {
      "text/plain": [
       "7084"
      ]
     },
     "execution_count": 5,
     "metadata": {},
     "output_type": "execute_result"
    }
   ],
   "source": [
    "df.size"
   ]
  },
  {
   "cell_type": "code",
   "execution_count": 6,
   "id": "cdd57356",
   "metadata": {
    "scrolled": true
   },
   "outputs": [
    {
     "data": {
      "text/plain": [
       "Index(['CRIM', 'ZN', 'INDUS', 'CHAS', 'NOX', 'RM', 'AGE', 'DIS', 'RAD', 'TAX',\n",
       "       'PTRATIO', 'B', 'LSTAT', 'PRICE'],\n",
       "      dtype='object')"
      ]
     },
     "execution_count": 6,
     "metadata": {},
     "output_type": "execute_result"
    }
   ],
   "source": [
    "df.columns"
   ]
  },
  {
   "cell_type": "code",
   "execution_count": 7,
   "id": "dade0bf8",
   "metadata": {
    "scrolled": true
   },
   "outputs": [
    {
     "data": {
      "text/plain": [
       "CRIM       float64\n",
       "ZN         float64\n",
       "INDUS      float64\n",
       "CHAS       float64\n",
       "NOX        float64\n",
       "RM         float64\n",
       "AGE        float64\n",
       "DIS        float64\n",
       "RAD          int64\n",
       "TAX        float64\n",
       "PTRATIO    float64\n",
       "B          float64\n",
       "LSTAT      float64\n",
       "PRICE      float64\n",
       "dtype: object"
      ]
     },
     "execution_count": 7,
     "metadata": {},
     "output_type": "execute_result"
    }
   ],
   "source": [
    "df.dtypes"
   ]
  },
  {
   "cell_type": "code",
   "execution_count": 8,
   "id": "d670cf1f",
   "metadata": {
    "scrolled": true
   },
   "outputs": [
    {
     "data": {
      "text/plain": [
       "CRIM       452\n",
       "ZN          27\n",
       "INDUS       77\n",
       "CHAS        16\n",
       "NOX        132\n",
       "RM         437\n",
       "AGE        399\n",
       "DIS        361\n",
       "RAD         10\n",
       "TAX         67\n",
       "PTRATIO     85\n",
       "B          374\n",
       "LSTAT      445\n",
       "PRICE      210\n",
       "dtype: int64"
      ]
     },
     "execution_count": 8,
     "metadata": {},
     "output_type": "execute_result"
    }
   ],
   "source": [
    "df.nunique()"
   ]
  },
  {
   "cell_type": "markdown",
   "id": "c022f39e",
   "metadata": {},
   "source": [
    "CRIM per capita crime rate by town\n",
    "\n",
    "ZN proportion of residential land zoned for lots over 25,000 sq.ft.\n",
    "\n",
    "INDUS proportion of non-retail business acres per town\n",
    "\n",
    "CHAS Charles River dummy variable (= 1 if tract bounds river; 0 otherwise)\n",
    "\n",
    "NOX nitric oxides concentration (parts per 10 million)\n",
    "\n",
    "RM average number of rooms per dwelling\n",
    "\n",
    "AGE proportion of owner-occupied units built prior to 1940\n",
    "\n",
    "DIS weighted distances to five Boston employment centres\n",
    "\n",
    "RAD index of accessibility to radial highways\n",
    "\n",
    "TAX full-value property-tax rate per 10,000usd\n",
    "\n",
    "PTRATIO pupil-teacher ratio by town\n",
    "\n",
    "B 1000(Bk - 0.63)^2 where Bk is the proportion of blacks by town\n",
    "\n",
    "LSTAT % lower status of the population"
   ]
  },
  {
   "cell_type": "markdown",
   "id": "23382b0d",
   "metadata": {},
   "source": [
    "CRIM: This represents the per capita crime rate by town. It indicates the level of crime in a given area, with higher values indicating a higher crime rate.\n",
    "\n",
    "ZN: This is the proportion of residential land zoned for lots over 25,000 sq.ft. It denotes the amount of land reserved for large residential lots, typically indicating a more spacious or upscale residential area.\n",
    "\n",
    "INDUS: This represents the proportion of non-retail business acres per town. It indicates the extent of industrialization in a town, with higher values suggesting a larger presence of non-retail businesses.\n",
    "\n",
    "CHAS: This is a Charles River dummy variable, where a value of 1 indicates that the tract bounds the river, and 0 otherwise. It distinguishes between areas that are adjacent to the Charles River and those that are not.\n",
    "\n",
    "NOX: This represents the concentration of nitric oxides in the air, measured in parts per 10 million. It indicates the level of air pollution, with higher values suggesting higher levels of nitric oxides.\n",
    "\n",
    "RM: This denotes the average number of rooms per dwelling. It provides information about the size of houses in the area, with higher values indicating larger and potentially more expensive dwellings.\n",
    "\n",
    "AGE: This is the proportion of owner-occupied units built prior to 1940. It indicates the age of the housing stock in the area, with higher values suggesting a higher proportion of older homes.\n",
    "\n",
    "DIS: This represents the weighted distances to five Boston employment centers. It provides information about the accessibility of employment centers from different areas, with lower values indicating closer proximity to employment opportunities.\n",
    "\n",
    "RAD: This is an index of accessibility to radial highways. It measures the ease of access to radial highways from each area, with higher values indicating better accessibility.\n",
    "\n",
    "TAX: This is the full-value property-tax rate per $10,000 USD. It indicates the property tax rates in different areas, which can vary widely depending on local government policies and services.\n",
    "\n",
    "PTRATIO: This represents the pupil-teacher ratio by town. It indicates the average number of students per teacher in local schools, which can provide insights into the quality of education and class sizes.\n",
    "\n",
    "B: This is a measure derived from the proportion of blacks by town, using the formula 1000(Bk - 0.63)^2. It is not directly explained in the context provided, but it seems to be a measure related to racial demographics.\n",
    "\n",
    "LSTAT: This represents the percentage of the lower status of the population. It indicates the socioeconomic status of residents in the area, with higher values suggesting a higher proportion of lower-income residents."
   ]
  },
  {
   "cell_type": "code",
   "execution_count": 9,
   "id": "a37761e3",
   "metadata": {
    "scrolled": true
   },
   "outputs": [
    {
     "name": "stdout",
     "output_type": "stream",
     "text": [
      "<class 'pandas.core.frame.DataFrame'>\n",
      "RangeIndex: 506 entries, 0 to 505\n",
      "Data columns (total 14 columns):\n",
      " #   Column   Non-Null Count  Dtype  \n",
      "---  ------   --------------  -----  \n",
      " 0   CRIM     506 non-null    float64\n",
      " 1   ZN       506 non-null    float64\n",
      " 2   INDUS    506 non-null    float64\n",
      " 3   CHAS     506 non-null    float64\n",
      " 4   NOX      506 non-null    float64\n",
      " 5   RM       506 non-null    float64\n",
      " 6   AGE      506 non-null    float64\n",
      " 7   DIS      506 non-null    float64\n",
      " 8   RAD      506 non-null    int64  \n",
      " 9   TAX      506 non-null    float64\n",
      " 10  PTRATIO  506 non-null    float64\n",
      " 11  B        506 non-null    float64\n",
      " 12  LSTAT    506 non-null    float64\n",
      " 13  PRICE    452 non-null    float64\n",
      "dtypes: float64(13), int64(1)\n",
      "memory usage: 55.5 KB\n"
     ]
    }
   ],
   "source": [
    "df.info()"
   ]
  },
  {
   "cell_type": "code",
   "execution_count": 10,
   "id": "af0f78b8",
   "metadata": {
    "scrolled": false
   },
   "outputs": [
    {
     "data": {
      "text/html": [
       "<div>\n",
       "<style scoped>\n",
       "    .dataframe tbody tr th:only-of-type {\n",
       "        vertical-align: middle;\n",
       "    }\n",
       "\n",
       "    .dataframe tbody tr th {\n",
       "        vertical-align: top;\n",
       "    }\n",
       "\n",
       "    .dataframe thead th {\n",
       "        text-align: right;\n",
       "    }\n",
       "</style>\n",
       "<table border=\"1\" class=\"dataframe\">\n",
       "  <thead>\n",
       "    <tr style=\"text-align: right;\">\n",
       "      <th></th>\n",
       "      <th>CRIM</th>\n",
       "      <th>ZN</th>\n",
       "      <th>INDUS</th>\n",
       "      <th>CHAS</th>\n",
       "      <th>NOX</th>\n",
       "      <th>RM</th>\n",
       "      <th>AGE</th>\n",
       "      <th>DIS</th>\n",
       "      <th>RAD</th>\n",
       "      <th>TAX</th>\n",
       "      <th>PTRATIO</th>\n",
       "      <th>B</th>\n",
       "      <th>LSTAT</th>\n",
       "      <th>PRICE</th>\n",
       "    </tr>\n",
       "  </thead>\n",
       "  <tbody>\n",
       "    <tr>\n",
       "      <th>count</th>\n",
       "      <td>506.000000</td>\n",
       "      <td>506.000000</td>\n",
       "      <td>506.000000</td>\n",
       "      <td>506.000000</td>\n",
       "      <td>506.000000</td>\n",
       "      <td>506.000000</td>\n",
       "      <td>506.000000</td>\n",
       "      <td>506.000000</td>\n",
       "      <td>506.000000</td>\n",
       "      <td>506.000000</td>\n",
       "      <td>506.000000</td>\n",
       "      <td>506.000000</td>\n",
       "      <td>506.000000</td>\n",
       "      <td>452.000000</td>\n",
       "    </tr>\n",
       "    <tr>\n",
       "      <th>mean</th>\n",
       "      <td>1.269195</td>\n",
       "      <td>13.295257</td>\n",
       "      <td>9.205158</td>\n",
       "      <td>0.140765</td>\n",
       "      <td>1.101175</td>\n",
       "      <td>15.679800</td>\n",
       "      <td>58.744660</td>\n",
       "      <td>6.173308</td>\n",
       "      <td>78.063241</td>\n",
       "      <td>339.317787</td>\n",
       "      <td>42.614980</td>\n",
       "      <td>332.791107</td>\n",
       "      <td>11.537806</td>\n",
       "      <td>23.750442</td>\n",
       "    </tr>\n",
       "    <tr>\n",
       "      <th>std</th>\n",
       "      <td>2.399207</td>\n",
       "      <td>23.048697</td>\n",
       "      <td>7.169630</td>\n",
       "      <td>0.312765</td>\n",
       "      <td>1.646991</td>\n",
       "      <td>27.220206</td>\n",
       "      <td>33.104049</td>\n",
       "      <td>6.476435</td>\n",
       "      <td>203.542157</td>\n",
       "      <td>180.670077</td>\n",
       "      <td>87.585243</td>\n",
       "      <td>125.322456</td>\n",
       "      <td>6.064932</td>\n",
       "      <td>8.808602</td>\n",
       "    </tr>\n",
       "    <tr>\n",
       "      <th>min</th>\n",
       "      <td>0.000000</td>\n",
       "      <td>0.000000</td>\n",
       "      <td>0.000000</td>\n",
       "      <td>0.000000</td>\n",
       "      <td>0.385000</td>\n",
       "      <td>3.561000</td>\n",
       "      <td>1.137000</td>\n",
       "      <td>1.129600</td>\n",
       "      <td>1.000000</td>\n",
       "      <td>20.200000</td>\n",
       "      <td>2.600000</td>\n",
       "      <td>0.320000</td>\n",
       "      <td>1.730000</td>\n",
       "      <td>6.300000</td>\n",
       "    </tr>\n",
       "    <tr>\n",
       "      <th>25%</th>\n",
       "      <td>0.049443</td>\n",
       "      <td>0.000000</td>\n",
       "      <td>3.440000</td>\n",
       "      <td>0.000000</td>\n",
       "      <td>0.449000</td>\n",
       "      <td>5.961500</td>\n",
       "      <td>32.000000</td>\n",
       "      <td>2.430575</td>\n",
       "      <td>4.000000</td>\n",
       "      <td>254.000000</td>\n",
       "      <td>17.000000</td>\n",
       "      <td>364.995000</td>\n",
       "      <td>6.877500</td>\n",
       "      <td>18.500000</td>\n",
       "    </tr>\n",
       "    <tr>\n",
       "      <th>50%</th>\n",
       "      <td>0.144655</td>\n",
       "      <td>0.000000</td>\n",
       "      <td>6.960000</td>\n",
       "      <td>0.000000</td>\n",
       "      <td>0.538000</td>\n",
       "      <td>6.322500</td>\n",
       "      <td>65.250000</td>\n",
       "      <td>3.925850</td>\n",
       "      <td>5.000000</td>\n",
       "      <td>307.000000</td>\n",
       "      <td>18.900000</td>\n",
       "      <td>390.660000</td>\n",
       "      <td>10.380000</td>\n",
       "      <td>21.950000</td>\n",
       "    </tr>\n",
       "    <tr>\n",
       "      <th>75%</th>\n",
       "      <td>0.819623</td>\n",
       "      <td>18.100000</td>\n",
       "      <td>18.100000</td>\n",
       "      <td>0.000000</td>\n",
       "      <td>0.647000</td>\n",
       "      <td>6.949000</td>\n",
       "      <td>89.975000</td>\n",
       "      <td>6.332075</td>\n",
       "      <td>24.000000</td>\n",
       "      <td>403.000000</td>\n",
       "      <td>20.200000</td>\n",
       "      <td>395.615000</td>\n",
       "      <td>15.015000</td>\n",
       "      <td>26.600000</td>\n",
       "    </tr>\n",
       "    <tr>\n",
       "      <th>max</th>\n",
       "      <td>9.966540</td>\n",
       "      <td>100.000000</td>\n",
       "      <td>27.740000</td>\n",
       "      <td>1.000000</td>\n",
       "      <td>7.313000</td>\n",
       "      <td>100.000000</td>\n",
       "      <td>100.000000</td>\n",
       "      <td>24.000000</td>\n",
       "      <td>666.000000</td>\n",
       "      <td>711.000000</td>\n",
       "      <td>396.900000</td>\n",
       "      <td>396.900000</td>\n",
       "      <td>34.410000</td>\n",
       "      <td>50.000000</td>\n",
       "    </tr>\n",
       "  </tbody>\n",
       "</table>\n",
       "</div>"
      ],
      "text/plain": [
       "             CRIM          ZN       INDUS        CHAS         NOX          RM  \\\n",
       "count  506.000000  506.000000  506.000000  506.000000  506.000000  506.000000   \n",
       "mean     1.269195   13.295257    9.205158    0.140765    1.101175   15.679800   \n",
       "std      2.399207   23.048697    7.169630    0.312765    1.646991   27.220206   \n",
       "min      0.000000    0.000000    0.000000    0.000000    0.385000    3.561000   \n",
       "25%      0.049443    0.000000    3.440000    0.000000    0.449000    5.961500   \n",
       "50%      0.144655    0.000000    6.960000    0.000000    0.538000    6.322500   \n",
       "75%      0.819623   18.100000   18.100000    0.000000    0.647000    6.949000   \n",
       "max      9.966540  100.000000   27.740000    1.000000    7.313000  100.000000   \n",
       "\n",
       "              AGE         DIS         RAD         TAX     PTRATIO           B  \\\n",
       "count  506.000000  506.000000  506.000000  506.000000  506.000000  506.000000   \n",
       "mean    58.744660    6.173308   78.063241  339.317787   42.614980  332.791107   \n",
       "std     33.104049    6.476435  203.542157  180.670077   87.585243  125.322456   \n",
       "min      1.137000    1.129600    1.000000   20.200000    2.600000    0.320000   \n",
       "25%     32.000000    2.430575    4.000000  254.000000   17.000000  364.995000   \n",
       "50%     65.250000    3.925850    5.000000  307.000000   18.900000  390.660000   \n",
       "75%     89.975000    6.332075   24.000000  403.000000   20.200000  395.615000   \n",
       "max    100.000000   24.000000  666.000000  711.000000  396.900000  396.900000   \n",
       "\n",
       "            LSTAT       PRICE  \n",
       "count  506.000000  452.000000  \n",
       "mean    11.537806   23.750442  \n",
       "std      6.064932    8.808602  \n",
       "min      1.730000    6.300000  \n",
       "25%      6.877500   18.500000  \n",
       "50%     10.380000   21.950000  \n",
       "75%     15.015000   26.600000  \n",
       "max     34.410000   50.000000  "
      ]
     },
     "execution_count": 10,
     "metadata": {},
     "output_type": "execute_result"
    }
   ],
   "source": [
    "df.describe()"
   ]
  },
  {
   "cell_type": "code",
   "execution_count": 11,
   "id": "6bc1a3cc",
   "metadata": {},
   "outputs": [
    {
     "data": {
      "text/plain": [
       "CRIM        0\n",
       "ZN          0\n",
       "INDUS       0\n",
       "CHAS        0\n",
       "NOX         0\n",
       "RM          0\n",
       "AGE         0\n",
       "DIS         0\n",
       "RAD         0\n",
       "TAX         0\n",
       "PTRATIO     0\n",
       "B           0\n",
       "LSTAT       0\n",
       "PRICE      54\n",
       "dtype: int64"
      ]
     },
     "execution_count": 11,
     "metadata": {},
     "output_type": "execute_result"
    }
   ],
   "source": [
    "df.isnull().sum()"
   ]
  },
  {
   "cell_type": "code",
   "execution_count": 12,
   "id": "8997f7bf",
   "metadata": {},
   "outputs": [],
   "source": [
    "df.dropna(inplace=True)\n"
   ]
  },
  {
   "cell_type": "code",
   "execution_count": 13,
   "id": "23e5474c",
   "metadata": {},
   "outputs": [
    {
     "name": "stdout",
     "output_type": "stream",
     "text": [
      "<class 'pandas.core.frame.DataFrame'>\n",
      "Int64Index: 452 entries, 0 to 505\n",
      "Data columns (total 14 columns):\n",
      " #   Column   Non-Null Count  Dtype  \n",
      "---  ------   --------------  -----  \n",
      " 0   CRIM     452 non-null    float64\n",
      " 1   ZN       452 non-null    float64\n",
      " 2   INDUS    452 non-null    float64\n",
      " 3   CHAS     452 non-null    float64\n",
      " 4   NOX      452 non-null    float64\n",
      " 5   RM       452 non-null    float64\n",
      " 6   AGE      452 non-null    float64\n",
      " 7   DIS      452 non-null    float64\n",
      " 8   RAD      452 non-null    int64  \n",
      " 9   TAX      452 non-null    float64\n",
      " 10  PTRATIO  452 non-null    float64\n",
      " 11  B        452 non-null    float64\n",
      " 12  LSTAT    452 non-null    float64\n",
      " 13  PRICE    452 non-null    float64\n",
      "dtypes: float64(13), int64(1)\n",
      "memory usage: 53.0 KB\n"
     ]
    }
   ],
   "source": [
    "df.info()"
   ]
  },
  {
   "cell_type": "code",
   "execution_count": 14,
   "id": "a2593cea",
   "metadata": {},
   "outputs": [
    {
     "data": {
      "text/plain": [
       "CRIM       0\n",
       "ZN         0\n",
       "INDUS      0\n",
       "CHAS       0\n",
       "NOX        0\n",
       "RM         0\n",
       "AGE        0\n",
       "DIS        0\n",
       "RAD        0\n",
       "TAX        0\n",
       "PTRATIO    0\n",
       "B          0\n",
       "LSTAT      0\n",
       "PRICE      0\n",
       "dtype: int64"
      ]
     },
     "execution_count": 14,
     "metadata": {},
     "output_type": "execute_result"
    }
   ],
   "source": [
    "df.isnull().sum()"
   ]
  },
  {
   "cell_type": "code",
   "execution_count": 15,
   "id": "3cb88d91",
   "metadata": {},
   "outputs": [
    {
     "data": {
      "text/plain": [
       "<Axes: >"
      ]
     },
     "execution_count": 15,
     "metadata": {},
     "output_type": "execute_result"
    },
    {
     "data": {
      "image/png": "[encoded data removed]",
      "text/plain": [
       "<Figure size 640x480 with 2 Axes>"
      ]
     },
     "metadata": {},
     "output_type": "display_data"
    }
   ],
   "source": [
    "sns.heatmap(df.isna())"
   ]
  },
  {
   "cell_type": "code",
   "execution_count": 16,
   "id": "4f6ef5cc",
   "metadata": {},
   "outputs": [
    {
     "data": {
      "text/plain": [
       "(14, 14)"
      ]
     },
     "execution_count": 16,
     "metadata": {},
     "output_type": "execute_result"
    }
   ],
   "source": [
    "# Finding out the correlation between the features\n",
    "corr = df.corr()\n",
    "corr.shape"
   ]
  },
  {
   "cell_type": "code",
   "execution_count": 17,
   "id": "e8d84d9f",
   "metadata": {
    "scrolled": false
   },
   "outputs": [
    {
     "data": {
      "text/html": [
       "<div>\n",
       "<style scoped>\n",
       "    .dataframe tbody tr th:only-of-type {\n",
       "        vertical-align: middle;\n",
       "    }\n",
       "\n",
       "    .dataframe tbody tr th {\n",
       "        vertical-align: top;\n",
       "    }\n",
       "\n",
       "    .dataframe thead th {\n",
       "        text-align: right;\n",
       "    }\n",
       "</style>\n",
       "<table border=\"1\" class=\"dataframe\">\n",
       "  <thead>\n",
       "    <tr style=\"text-align: right;\">\n",
       "      <th></th>\n",
       "      <th>CRIM</th>\n",
       "      <th>ZN</th>\n",
       "      <th>INDUS</th>\n",
       "      <th>CHAS</th>\n",
       "      <th>NOX</th>\n",
       "      <th>RM</th>\n",
       "      <th>AGE</th>\n",
       "      <th>DIS</th>\n",
       "      <th>RAD</th>\n",
       "      <th>TAX</th>\n",
       "      <th>PTRATIO</th>\n",
       "      <th>B</th>\n",
       "      <th>LSTAT</th>\n",
       "      <th>PRICE</th>\n",
       "    </tr>\n",
       "  </thead>\n",
       "  <tbody>\n",
       "    <tr>\n",
       "      <th>CRIM</th>\n",
       "      <td>1.000000</td>\n",
       "      <td>-0.281239</td>\n",
       "      <td>0.573822</td>\n",
       "      <td>0.050066</td>\n",
       "      <td>0.636941</td>\n",
       "      <td>-0.142458</td>\n",
       "      <td>0.447664</td>\n",
       "      <td>-0.461967</td>\n",
       "      <td>0.897988</td>\n",
       "      <td>0.825668</td>\n",
       "      <td>0.319470</td>\n",
       "      <td>-0.413014</td>\n",
       "      <td>0.424789</td>\n",
       "      <td>-0.286245</td>\n",
       "    </tr>\n",
       "    <tr>\n",
       "      <th>ZN</th>\n",
       "      <td>-0.281239</td>\n",
       "      <td>1.000000</td>\n",
       "      <td>-0.514273</td>\n",
       "      <td>-0.059697</td>\n",
       "      <td>-0.500729</td>\n",
       "      <td>0.306623</td>\n",
       "      <td>-0.555679</td>\n",
       "      <td>0.656152</td>\n",
       "      <td>-0.266606</td>\n",
       "      <td>-0.269446</td>\n",
       "      <td>-0.364122</td>\n",
       "      <td>0.150380</td>\n",
       "      <td>-0.411165</td>\n",
       "      <td>0.331570</td>\n",
       "    </tr>\n",
       "    <tr>\n",
       "      <th>INDUS</th>\n",
       "      <td>0.573822</td>\n",
       "      <td>-0.514273</td>\n",
       "      <td>1.000000</td>\n",
       "      <td>0.103016</td>\n",
       "      <td>0.738517</td>\n",
       "      <td>-0.364895</td>\n",
       "      <td>0.605982</td>\n",
       "      <td>-0.669362</td>\n",
       "      <td>0.513306</td>\n",
       "      <td>0.673312</td>\n",
       "      <td>0.317336</td>\n",
       "      <td>-0.316752</td>\n",
       "      <td>0.565402</td>\n",
       "      <td>-0.411915</td>\n",
       "    </tr>\n",
       "    <tr>\n",
       "      <th>CHAS</th>\n",
       "      <td>0.050066</td>\n",
       "      <td>-0.059697</td>\n",
       "      <td>0.103016</td>\n",
       "      <td>1.000000</td>\n",
       "      <td>0.134064</td>\n",
       "      <td>0.076580</td>\n",
       "      <td>0.123141</td>\n",
       "      <td>-0.140662</td>\n",
       "      <td>0.057337</td>\n",
       "      <td>0.016894</td>\n",
       "      <td>-0.099623</td>\n",
       "      <td>0.013415</td>\n",
       "      <td>-0.009430</td>\n",
       "      <td>0.154409</td>\n",
       "    </tr>\n",
       "    <tr>\n",
       "      <th>NOX</th>\n",
       "      <td>0.636941</td>\n",
       "      <td>-0.500729</td>\n",
       "      <td>0.738517</td>\n",
       "      <td>0.134064</td>\n",
       "      <td>1.000000</td>\n",
       "      <td>-0.264594</td>\n",
       "      <td>0.707148</td>\n",
       "      <td>-0.745812</td>\n",
       "      <td>0.542499</td>\n",
       "      <td>0.615120</td>\n",
       "      <td>0.103464</td>\n",
       "      <td>-0.358433</td>\n",
       "      <td>0.536824</td>\n",
       "      <td>-0.332778</td>\n",
       "    </tr>\n",
       "    <tr>\n",
       "      <th>RM</th>\n",
       "      <td>-0.142458</td>\n",
       "      <td>0.306623</td>\n",
       "      <td>-0.364895</td>\n",
       "      <td>0.076580</td>\n",
       "      <td>-0.264594</td>\n",
       "      <td>1.000000</td>\n",
       "      <td>-0.187871</td>\n",
       "      <td>0.138774</td>\n",
       "      <td>-0.095931</td>\n",
       "      <td>-0.214948</td>\n",
       "      <td>-0.334164</td>\n",
       "      <td>0.108352</td>\n",
       "      <td>-0.607289</td>\n",
       "      <td>0.740181</td>\n",
       "    </tr>\n",
       "    <tr>\n",
       "      <th>AGE</th>\n",
       "      <td>0.447664</td>\n",
       "      <td>-0.555679</td>\n",
       "      <td>0.605982</td>\n",
       "      <td>0.123141</td>\n",
       "      <td>0.707148</td>\n",
       "      <td>-0.187871</td>\n",
       "      <td>1.000000</td>\n",
       "      <td>-0.720334</td>\n",
       "      <td>0.359326</td>\n",
       "      <td>0.427095</td>\n",
       "      <td>0.192956</td>\n",
       "      <td>-0.223765</td>\n",
       "      <td>0.573266</td>\n",
       "      <td>-0.299893</td>\n",
       "    </tr>\n",
       "    <tr>\n",
       "      <th>DIS</th>\n",
       "      <td>-0.461967</td>\n",
       "      <td>0.656152</td>\n",
       "      <td>-0.669362</td>\n",
       "      <td>-0.140662</td>\n",
       "      <td>-0.745812</td>\n",
       "      <td>0.138774</td>\n",
       "      <td>-0.720334</td>\n",
       "      <td>1.000000</td>\n",
       "      <td>-0.388385</td>\n",
       "      <td>-0.444131</td>\n",
       "      <td>-0.152253</td>\n",
       "      <td>0.234449</td>\n",
       "      <td>-0.423725</td>\n",
       "      <td>0.138798</td>\n",
       "    </tr>\n",
       "    <tr>\n",
       "      <th>RAD</th>\n",
       "      <td>0.897988</td>\n",
       "      <td>-0.266606</td>\n",
       "      <td>0.513306</td>\n",
       "      <td>0.057337</td>\n",
       "      <td>0.542499</td>\n",
       "      <td>-0.095931</td>\n",
       "      <td>0.359326</td>\n",
       "      <td>-0.388385</td>\n",
       "      <td>1.000000</td>\n",
       "      <td>0.872876</td>\n",
       "      <td>0.387484</td>\n",
       "      <td>-0.352586</td>\n",
       "      <td>0.309788</td>\n",
       "      <td>-0.217902</td>\n",
       "    </tr>\n",
       "    <tr>\n",
       "      <th>TAX</th>\n",
       "      <td>0.825668</td>\n",
       "      <td>-0.269446</td>\n",
       "      <td>0.673312</td>\n",
       "      <td>0.016894</td>\n",
       "      <td>0.615120</td>\n",
       "      <td>-0.214948</td>\n",
       "      <td>0.427095</td>\n",
       "      <td>-0.444131</td>\n",
       "      <td>0.872876</td>\n",
       "      <td>1.000000</td>\n",
       "      <td>0.384511</td>\n",
       "      <td>-0.367084</td>\n",
       "      <td>0.410927</td>\n",
       "      <td>-0.345898</td>\n",
       "    </tr>\n",
       "    <tr>\n",
       "      <th>PTRATIO</th>\n",
       "      <td>0.319470</td>\n",
       "      <td>-0.364122</td>\n",
       "      <td>0.317336</td>\n",
       "      <td>-0.099623</td>\n",
       "      <td>0.103464</td>\n",
       "      <td>-0.334164</td>\n",
       "      <td>0.192956</td>\n",
       "      <td>-0.152253</td>\n",
       "      <td>0.387484</td>\n",
       "      <td>0.384511</td>\n",
       "      <td>1.000000</td>\n",
       "      <td>-0.089609</td>\n",
       "      <td>0.303043</td>\n",
       "      <td>-0.461214</td>\n",
       "    </tr>\n",
       "    <tr>\n",
       "      <th>B</th>\n",
       "      <td>-0.413014</td>\n",
       "      <td>0.150380</td>\n",
       "      <td>-0.316752</td>\n",
       "      <td>0.013415</td>\n",
       "      <td>-0.358433</td>\n",
       "      <td>0.108352</td>\n",
       "      <td>-0.223765</td>\n",
       "      <td>0.234449</td>\n",
       "      <td>-0.352586</td>\n",
       "      <td>-0.367084</td>\n",
       "      <td>-0.089609</td>\n",
       "      <td>1.000000</td>\n",
       "      <td>-0.291094</td>\n",
       "      <td>0.264797</td>\n",
       "    </tr>\n",
       "    <tr>\n",
       "      <th>LSTAT</th>\n",
       "      <td>0.424789</td>\n",
       "      <td>-0.411165</td>\n",
       "      <td>0.565402</td>\n",
       "      <td>-0.009430</td>\n",
       "      <td>0.536824</td>\n",
       "      <td>-0.607289</td>\n",
       "      <td>0.573266</td>\n",
       "      <td>-0.423725</td>\n",
       "      <td>0.309788</td>\n",
       "      <td>0.410927</td>\n",
       "      <td>0.303043</td>\n",
       "      <td>-0.291094</td>\n",
       "      <td>1.000000</td>\n",
       "      <td>-0.706255</td>\n",
       "    </tr>\n",
       "    <tr>\n",
       "      <th>PRICE</th>\n",
       "      <td>-0.286245</td>\n",
       "      <td>0.331570</td>\n",
       "      <td>-0.411915</td>\n",
       "      <td>0.154409</td>\n",
       "      <td>-0.332778</td>\n",
       "      <td>0.740181</td>\n",
       "      <td>-0.299893</td>\n",
       "      <td>0.138798</td>\n",
       "      <td>-0.217902</td>\n",
       "      <td>-0.345898</td>\n",
       "      <td>-0.461214</td>\n",
       "      <td>0.264797</td>\n",
       "      <td>-0.706255</td>\n",
       "      <td>1.000000</td>\n",
       "    </tr>\n",
       "  </tbody>\n",
       "</table>\n",
       "</div>"
      ],
      "text/plain": [
       "             CRIM        ZN     INDUS      CHAS       NOX        RM       AGE  \\\n",
       "CRIM     1.000000 -0.281239  0.573822  0.050066  0.636941 -0.142458  0.447664   \n",
       "ZN      -0.281239  1.000000 -0.514273 -0.059697 -0.500729  0.306623 -0.555679   \n",
       "INDUS    0.573822 -0.514273  1.000000  0.103016  0.738517 -0.364895  0.605982   \n",
       "CHAS     0.050066 -0.059697  0.103016  1.000000  0.134064  0.076580  0.123141   \n",
       "NOX      0.636941 -0.500729  0.738517  0.134064  1.000000 -0.264594  0.707148   \n",
       "RM      -0.142458  0.306623 -0.364895  0.076580 -0.264594  1.000000 -0.187871   \n",
       "AGE      0.447664 -0.555679  0.605982  0.123141  0.707148 -0.187871  1.000000   \n",
       "DIS     -0.461967  0.656152 -0.669362 -0.140662 -0.745812  0.138774 -0.720334   \n",
       "RAD      0.897988 -0.266606  0.513306  0.057337  0.542499 -0.095931  0.359326   \n",
       "TAX      0.825668 -0.269446  0.673312  0.016894  0.615120 -0.214948  0.427095   \n",
       "PTRATIO  0.319470 -0.364122  0.317336 -0.099623  0.103464 -0.334164  0.192956   \n",
       "B       -0.413014  0.150380 -0.316752  0.013415 -0.358433  0.108352 -0.223765   \n",
       "LSTAT    0.424789 -0.411165  0.565402 -0.009430  0.536824 -0.607289  0.573266   \n",
       "PRICE   -0.286245  0.331570 -0.411915  0.154409 -0.332778  0.740181 -0.299893   \n",
       "\n",
       "              DIS       RAD       TAX   PTRATIO         B     LSTAT     PRICE  \n",
       "CRIM    -0.461967  0.897988  0.825668  0.319470 -0.413014  0.424789 -0.286245  \n",
       "ZN       0.656152 -0.266606 -0.269446 -0.364122  0.150380 -0.411165  0.331570  \n",
       "INDUS   -0.669362  0.513306  0.673312  0.317336 -0.316752  0.565402 -0.411915  \n",
       "CHAS    -0.140662  0.057337  0.016894 -0.099623  0.013415 -0.009430  0.154409  \n",
       "NOX     -0.745812  0.542499  0.615120  0.103464 -0.358433  0.536824 -0.332778  \n",
       "RM       0.138774 -0.095931 -0.214948 -0.334164  0.108352 -0.607289  0.740181  \n",
       "AGE     -0.720334  0.359326  0.427095  0.192956 -0.223765  0.573266 -0.299893  \n",
       "DIS      1.000000 -0.388385 -0.444131 -0.152253  0.234449 -0.423725  0.138798  \n",
       "RAD     -0.388385  1.000000  0.872876  0.387484 -0.352586  0.309788 -0.217902  \n",
       "TAX     -0.444131  0.872876  1.000000  0.384511 -0.367084  0.410927 -0.345898  \n",
       "PTRATIO -0.152253  0.387484  0.384511  1.000000 -0.089609  0.303043 -0.461214  \n",
       "B        0.234449 -0.352586 -0.367084 -0.089609  1.000000 -0.291094  0.264797  \n",
       "LSTAT   -0.423725  0.309788  0.410927  0.303043 -0.291094  1.000000 -0.706255  \n",
       "PRICE    0.138798 -0.217902 -0.345898 -0.461214  0.264797 -0.706255  1.000000  "
      ]
     },
     "execution_count": 17,
     "metadata": {},
     "output_type": "execute_result"
    }
   ],
   "source": [
    "corr"
   ]
  },
  {
   "cell_type": "code",
   "execution_count": 18,
   "id": "e6739b36",
   "metadata": {},
   "outputs": [
    {
     "data": {
      "text/plain": [
       "<Axes: >"
      ]
     },
     "execution_count": 18,
     "metadata": {},
     "output_type": "execute_result"
    },
    {
     "data": {
      "image/png": "[encoded data removed]",
      "text/plain": [
       "<Figure size 2000x2000 with 2 Axes>"
      ]
     },
     "metadata": {},
     "output_type": "display_data"
    }
   ],
   "source": [
    "plt.figure(figsize=(20,20))\n",
    "sns.heatmap(corr,cbar=True, square=True, fmt=\".1f\", annot=True, annot_kws={'size':15},cmap='Greens')"
   ]
  },
  {
   "cell_type": "markdown",
   "id": "5ac7fd69",
   "metadata": {},
   "source": [
    "1: Indicates a perfect positive correlation, meaning when one variable increases, the other variable also increases proportionally.\n",
    "\n",
    "0: Indicates no correlation between the variables.\n",
    "\n",
    "-1: Indicates a perfect negative correlation, meaning when one variable increases, the other variable decreases proportionally.\n",
    "\n",
    "\n",
    "CRIM (per capita crime rate):\n",
    "\n",
    "Positively correlated with: INDUS (0.41), NOX (0.42), AGE (0.35), RAD (0.63), TAX (0.58), and LSTAT (0.46).\n",
    "Negatively correlated with: ZN (-0.20), RM (-0.22), DIS (-0.38), and B (-0.39).\n",
    "ZN (proportion of residential land zoned for lots over 25,000 sq.ft.):\n",
    "\n",
    "Negatively correlated with: CRIM (-0.20), INDUS (-0.53), NOX (-0.52), AGE (-0.57), DIS (0.66), and LSTAT (-0.41).\n",
    "INDUS (proportion of non-retail business acres per town):\n",
    "\n",
    "Positively correlated with: CRIM (0.41), NOX (0.76), AGE (0.64), RAD (0.60), TAX (0.72), and LSTAT (0.60).\n",
    "Negatively correlated with: ZN (-0.53), RM (-0.39), and DIS (-0.71).\n",
    "CHAS (Charles River dummy variable):\n",
    "\n",
    "No strong correlations with other variables.\n",
    "NOX (nitric oxides concentration):\n",
    "\n",
    "Positively correlated with: CRIM (0.42), INDUS (0.76), AGE (0.73), RAD (0.61), TAX (0.67), and LSTAT (0.59).\n",
    "Negatively correlated with: DIS (-0.77).\n",
    "RM (average number of rooms per dwelling):\n",
    "\n",
    "Negatively correlated with: CRIM (-0.22), LSTAT (-0.61).\n",
    "AGE (proportion of owner-occupied units built prior to 1940):\n",
    "\n",
    "Positively correlated with: CRIM (0.35), INDUS (0.64), NOX (0.73), and LSTAT (0.60).\n",
    "Negatively correlated with: ZN (-0.57), DIS (-0.75).\n",
    "DIS (weighted distances to five Boston employment centres):\n",
    "\n",
    "Positively correlated with: ZN (0.66).\n",
    "Negatively correlated with: CRIM (-0.38), INDUS (-0.71), NOX (-0.77), AGE (-0.75), and RAD (-0.49).\n",
    "RAD (index of accessibility to radial highways):\n",
    "\n",
    "Positively correlated with: CRIM (0.63), INDUS (0.60), TAX (0.91), and PTRATIO (0.46).\n",
    "Negatively correlated with: DIS (-0.49).\n",
    "TAX (full-value property-tax rate per $10,000 USD):\n",
    "\n",
    "Positively correlated with: CRIM (0.58), INDUS (0.72), NOX (0.67), RAD (0.91), and PTRATIO (0.46).\n",
    "Negatively correlated with: ZN (-0.31) and B (-0.44).\n",
    "PTRATIO (pupil-teacher ratio by town):\n",
    "\n",
    "Positively correlated with: CRIM (0.29), INDUS (0.38), RAD (0.46), and TAX (0.46).\n",
    "Negatively correlated with: B (-0.18).\n",
    "B (derived from the proportion of blacks by town):\n",
    "\n",
    "Negatively correlated with: CRIM (-0.39), INDUS (-0.36), and LSTAT (-0.37).\n",
    "LSTAT (% lower status of the population):\n",
    "\n",
    "Positively correlated with: CRIM (0.46), INDUS (0.60), NOX (0.59), AGE (0.60), RAD (0.49), TAX (0.54), and PTRATIO (0.37).\n",
    "Negatively correlated with: ZN (-0.41), RM (-0.61), DIS (-0.50), and B (-0.37).\n",
    "\n",
    "Areas with higher crime rates tend to have higher proportions of lower-income residents (LSTAT), higher property tax rates (TAX), and higher industrialization (INDUS). Conversely, areas with higher proportions of residential land (ZN) tend to have lower crime rates and property tax rates.\n",
    "\n",
    "\n",
    "\n",
    "\n",
    "\n"
   ]
  },
  {
   "cell_type": "code",
   "execution_count": 19,
   "id": "b72e766e",
   "metadata": {
    "scrolled": true
   },
   "outputs": [
    {
     "data": {
      "text/html": [
       "<div>\n",
       "<style scoped>\n",
       "    .dataframe tbody tr th:only-of-type {\n",
       "        vertical-align: middle;\n",
       "    }\n",
       "\n",
       "    .dataframe tbody tr th {\n",
       "        vertical-align: top;\n",
       "    }\n",
       "\n",
       "    .dataframe thead th {\n",
       "        text-align: right;\n",
       "    }\n",
       "</style>\n",
       "<table border=\"1\" class=\"dataframe\">\n",
       "  <thead>\n",
       "    <tr style=\"text-align: right;\">\n",
       "      <th></th>\n",
       "      <th>CRIM</th>\n",
       "      <th>ZN</th>\n",
       "      <th>INDUS</th>\n",
       "      <th>CHAS</th>\n",
       "      <th>NOX</th>\n",
       "      <th>RM</th>\n",
       "      <th>AGE</th>\n",
       "      <th>DIS</th>\n",
       "      <th>RAD</th>\n",
       "      <th>TAX</th>\n",
       "      <th>PTRATIO</th>\n",
       "      <th>B</th>\n",
       "      <th>LSTAT</th>\n",
       "      <th>PRICE</th>\n",
       "    </tr>\n",
       "  </thead>\n",
       "  <tbody>\n",
       "    <tr>\n",
       "      <th>0</th>\n",
       "      <td>0.00632</td>\n",
       "      <td>18.0</td>\n",
       "      <td>2.31</td>\n",
       "      <td>0.0</td>\n",
       "      <td>0.538</td>\n",
       "      <td>6.575</td>\n",
       "      <td>65.2</td>\n",
       "      <td>4.0900</td>\n",
       "      <td>1</td>\n",
       "      <td>296.0</td>\n",
       "      <td>15.3</td>\n",
       "      <td>396.9</td>\n",
       "      <td>4.98</td>\n",
       "      <td>24.0</td>\n",
       "    </tr>\n",
       "    <tr>\n",
       "      <th>1</th>\n",
       "      <td>0.02731</td>\n",
       "      <td>0.0</td>\n",
       "      <td>7.07</td>\n",
       "      <td>0.0</td>\n",
       "      <td>0.469</td>\n",
       "      <td>6.421</td>\n",
       "      <td>78.9</td>\n",
       "      <td>4.9671</td>\n",
       "      <td>2</td>\n",
       "      <td>242.0</td>\n",
       "      <td>17.8</td>\n",
       "      <td>396.9</td>\n",
       "      <td>9.14</td>\n",
       "      <td>21.6</td>\n",
       "    </tr>\n",
       "  </tbody>\n",
       "</table>\n",
       "</div>"
      ],
      "text/plain": [
       "      CRIM    ZN  INDUS  CHAS    NOX     RM   AGE     DIS  RAD    TAX  \\\n",
       "0  0.00632  18.0   2.31   0.0  0.538  6.575  65.2  4.0900    1  296.0   \n",
       "1  0.02731   0.0   7.07   0.0  0.469  6.421  78.9  4.9671    2  242.0   \n",
       "\n",
       "   PTRATIO      B  LSTAT  PRICE  \n",
       "0     15.3  396.9   4.98   24.0  \n",
       "1     17.8  396.9   9.14   21.6  "
      ]
     },
     "execution_count": 19,
     "metadata": {},
     "output_type": "execute_result"
    }
   ],
   "source": [
    "df.head(2)"
   ]
  },
  {
   "cell_type": "markdown",
   "id": "9a4dc0cf",
   "metadata": {},
   "source": [
    "# Train Test Split Data"
   ]
  },
  {
   "cell_type": "code",
   "execution_count": 20,
   "id": "55a43ed6",
   "metadata": {},
   "outputs": [],
   "source": [
    "X = df.drop(['PRICE'],axis = 1)\n",
    "Y = df['PRICE']"
   ]
  },
  {
   "cell_type": "code",
   "execution_count": 21,
   "id": "fee0713b",
   "metadata": {},
   "outputs": [
    {
     "data": {
      "text/html": [
       "<div>\n",
       "<style scoped>\n",
       "    .dataframe tbody tr th:only-of-type {\n",
       "        vertical-align: middle;\n",
       "    }\n",
       "\n",
       "    .dataframe tbody tr th {\n",
       "        vertical-align: top;\n",
       "    }\n",
       "\n",
       "    .dataframe thead th {\n",
       "        text-align: right;\n",
       "    }\n",
       "</style>\n",
       "<table border=\"1\" class=\"dataframe\">\n",
       "  <thead>\n",
       "    <tr style=\"text-align: right;\">\n",
       "      <th></th>\n",
       "      <th>CRIM</th>\n",
       "      <th>ZN</th>\n",
       "      <th>INDUS</th>\n",
       "      <th>CHAS</th>\n",
       "      <th>NOX</th>\n",
       "      <th>RM</th>\n",
       "      <th>AGE</th>\n",
       "      <th>DIS</th>\n",
       "      <th>RAD</th>\n",
       "      <th>TAX</th>\n",
       "      <th>PTRATIO</th>\n",
       "      <th>B</th>\n",
       "      <th>LSTAT</th>\n",
       "    </tr>\n",
       "  </thead>\n",
       "  <tbody>\n",
       "    <tr>\n",
       "      <th>0</th>\n",
       "      <td>0.00632</td>\n",
       "      <td>18.0</td>\n",
       "      <td>2.31</td>\n",
       "      <td>0.0</td>\n",
       "      <td>0.538</td>\n",
       "      <td>6.575</td>\n",
       "      <td>65.2</td>\n",
       "      <td>4.0900</td>\n",
       "      <td>1</td>\n",
       "      <td>296.0</td>\n",
       "      <td>15.3</td>\n",
       "      <td>396.90</td>\n",
       "      <td>4.98</td>\n",
       "    </tr>\n",
       "    <tr>\n",
       "      <th>1</th>\n",
       "      <td>0.02731</td>\n",
       "      <td>0.0</td>\n",
       "      <td>7.07</td>\n",
       "      <td>0.0</td>\n",
       "      <td>0.469</td>\n",
       "      <td>6.421</td>\n",
       "      <td>78.9</td>\n",
       "      <td>4.9671</td>\n",
       "      <td>2</td>\n",
       "      <td>242.0</td>\n",
       "      <td>17.8</td>\n",
       "      <td>396.90</td>\n",
       "      <td>9.14</td>\n",
       "    </tr>\n",
       "    <tr>\n",
       "      <th>2</th>\n",
       "      <td>0.02729</td>\n",
       "      <td>0.0</td>\n",
       "      <td>7.07</td>\n",
       "      <td>0.0</td>\n",
       "      <td>0.469</td>\n",
       "      <td>7.185</td>\n",
       "      <td>61.1</td>\n",
       "      <td>4.9671</td>\n",
       "      <td>2</td>\n",
       "      <td>242.0</td>\n",
       "      <td>17.8</td>\n",
       "      <td>392.83</td>\n",
       "      <td>4.03</td>\n",
       "    </tr>\n",
       "    <tr>\n",
       "      <th>3</th>\n",
       "      <td>0.03237</td>\n",
       "      <td>0.0</td>\n",
       "      <td>2.18</td>\n",
       "      <td>0.0</td>\n",
       "      <td>0.458</td>\n",
       "      <td>6.998</td>\n",
       "      <td>45.8</td>\n",
       "      <td>6.0622</td>\n",
       "      <td>3</td>\n",
       "      <td>222.0</td>\n",
       "      <td>18.7</td>\n",
       "      <td>394.63</td>\n",
       "      <td>2.94</td>\n",
       "    </tr>\n",
       "    <tr>\n",
       "      <th>4</th>\n",
       "      <td>0.06905</td>\n",
       "      <td>0.0</td>\n",
       "      <td>2.18</td>\n",
       "      <td>0.0</td>\n",
       "      <td>0.458</td>\n",
       "      <td>7.147</td>\n",
       "      <td>54.2</td>\n",
       "      <td>6.0622</td>\n",
       "      <td>3</td>\n",
       "      <td>222.0</td>\n",
       "      <td>18.7</td>\n",
       "      <td>396.90</td>\n",
       "      <td>5.33</td>\n",
       "    </tr>\n",
       "    <tr>\n",
       "      <th>...</th>\n",
       "      <td>...</td>\n",
       "      <td>...</td>\n",
       "      <td>...</td>\n",
       "      <td>...</td>\n",
       "      <td>...</td>\n",
       "      <td>...</td>\n",
       "      <td>...</td>\n",
       "      <td>...</td>\n",
       "      <td>...</td>\n",
       "      <td>...</td>\n",
       "      <td>...</td>\n",
       "      <td>...</td>\n",
       "      <td>...</td>\n",
       "    </tr>\n",
       "    <tr>\n",
       "      <th>501</th>\n",
       "      <td>0.06263</td>\n",
       "      <td>0.0</td>\n",
       "      <td>11.93</td>\n",
       "      <td>0.0</td>\n",
       "      <td>0.573</td>\n",
       "      <td>6.593</td>\n",
       "      <td>69.1</td>\n",
       "      <td>2.4786</td>\n",
       "      <td>1</td>\n",
       "      <td>273.0</td>\n",
       "      <td>21.0</td>\n",
       "      <td>391.99</td>\n",
       "      <td>9.67</td>\n",
       "    </tr>\n",
       "    <tr>\n",
       "      <th>502</th>\n",
       "      <td>0.04527</td>\n",
       "      <td>0.0</td>\n",
       "      <td>11.93</td>\n",
       "      <td>0.0</td>\n",
       "      <td>0.573</td>\n",
       "      <td>6.120</td>\n",
       "      <td>76.7</td>\n",
       "      <td>2.2875</td>\n",
       "      <td>1</td>\n",
       "      <td>273.0</td>\n",
       "      <td>21.0</td>\n",
       "      <td>396.90</td>\n",
       "      <td>9.08</td>\n",
       "    </tr>\n",
       "    <tr>\n",
       "      <th>503</th>\n",
       "      <td>0.06076</td>\n",
       "      <td>0.0</td>\n",
       "      <td>11.93</td>\n",
       "      <td>0.0</td>\n",
       "      <td>0.573</td>\n",
       "      <td>6.976</td>\n",
       "      <td>91.0</td>\n",
       "      <td>2.1675</td>\n",
       "      <td>1</td>\n",
       "      <td>273.0</td>\n",
       "      <td>21.0</td>\n",
       "      <td>396.90</td>\n",
       "      <td>5.64</td>\n",
       "    </tr>\n",
       "    <tr>\n",
       "      <th>504</th>\n",
       "      <td>0.10959</td>\n",
       "      <td>0.0</td>\n",
       "      <td>11.93</td>\n",
       "      <td>0.0</td>\n",
       "      <td>0.573</td>\n",
       "      <td>6.794</td>\n",
       "      <td>89.3</td>\n",
       "      <td>2.3889</td>\n",
       "      <td>1</td>\n",
       "      <td>273.0</td>\n",
       "      <td>21.0</td>\n",
       "      <td>393.45</td>\n",
       "      <td>6.48</td>\n",
       "    </tr>\n",
       "    <tr>\n",
       "      <th>505</th>\n",
       "      <td>0.04741</td>\n",
       "      <td>0.0</td>\n",
       "      <td>11.93</td>\n",
       "      <td>0.0</td>\n",
       "      <td>0.573</td>\n",
       "      <td>6.030</td>\n",
       "      <td>80.8</td>\n",
       "      <td>2.5050</td>\n",
       "      <td>1</td>\n",
       "      <td>273.0</td>\n",
       "      <td>21.0</td>\n",
       "      <td>396.90</td>\n",
       "      <td>7.88</td>\n",
       "    </tr>\n",
       "  </tbody>\n",
       "</table>\n",
       "<p>452 rows × 13 columns</p>\n",
       "</div>"
      ],
      "text/plain": [
       "        CRIM    ZN  INDUS  CHAS    NOX     RM   AGE     DIS  RAD    TAX  \\\n",
       "0    0.00632  18.0   2.31   0.0  0.538  6.575  65.2  4.0900    1  296.0   \n",
       "1    0.02731   0.0   7.07   0.0  0.469  6.421  78.9  4.9671    2  242.0   \n",
       "2    0.02729   0.0   7.07   0.0  0.469  7.185  61.1  4.9671    2  242.0   \n",
       "3    0.03237   0.0   2.18   0.0  0.458  6.998  45.8  6.0622    3  222.0   \n",
       "4    0.06905   0.0   2.18   0.0  0.458  7.147  54.2  6.0622    3  222.0   \n",
       "..       ...   ...    ...   ...    ...    ...   ...     ...  ...    ...   \n",
       "501  0.06263   0.0  11.93   0.0  0.573  6.593  69.1  2.4786    1  273.0   \n",
       "502  0.04527   0.0  11.93   0.0  0.573  6.120  76.7  2.2875    1  273.0   \n",
       "503  0.06076   0.0  11.93   0.0  0.573  6.976  91.0  2.1675    1  273.0   \n",
       "504  0.10959   0.0  11.93   0.0  0.573  6.794  89.3  2.3889    1  273.0   \n",
       "505  0.04741   0.0  11.93   0.0  0.573  6.030  80.8  2.5050    1  273.0   \n",
       "\n",
       "     PTRATIO       B  LSTAT  \n",
       "0       15.3  396.90   4.98  \n",
       "1       17.8  396.90   9.14  \n",
       "2       17.8  392.83   4.03  \n",
       "3       18.7  394.63   2.94  \n",
       "4       18.7  396.90   5.33  \n",
       "..       ...     ...    ...  \n",
       "501     21.0  391.99   9.67  \n",
       "502     21.0  396.90   9.08  \n",
       "503     21.0  396.90   5.64  \n",
       "504     21.0  393.45   6.48  \n",
       "505     21.0  396.90   7.88  \n",
       "\n",
       "[452 rows x 13 columns]"
      ]
     },
     "execution_count": 21,
     "metadata": {},
     "output_type": "execute_result"
    }
   ],
   "source": [
    "X"
   ]
  },
  {
   "cell_type": "code",
   "execution_count": 22,
   "id": "930a3772",
   "metadata": {},
   "outputs": [
    {
     "data": {
      "text/plain": [
       "0      24.0\n",
       "1      21.6\n",
       "2      34.7\n",
       "3      33.4\n",
       "4      36.2\n",
       "       ... \n",
       "501    22.4\n",
       "502    20.6\n",
       "503    23.9\n",
       "504    22.0\n",
       "505    11.9\n",
       "Name: PRICE, Length: 452, dtype: float64"
      ]
     },
     "execution_count": 22,
     "metadata": {},
     "output_type": "execute_result"
    }
   ],
   "source": [
    "Y"
   ]
  },
  {
   "cell_type": "code",
   "execution_count": 23,
   "id": "86d53b18",
   "metadata": {
    "scrolled": true
   },
   "outputs": [
    {
     "name": "stdout",
     "output_type": "stream",
     "text": [
      "        CRIM    ZN  INDUS  CHAS    NOX     RM   AGE     DIS  RAD    TAX  \\\n",
      "0    0.00632  18.0   2.31   0.0  0.538  6.575  65.2  4.0900    1  296.0   \n",
      "1    0.02731   0.0   7.07   0.0  0.469  6.421  78.9  4.9671    2  242.0   \n",
      "2    0.02729   0.0   7.07   0.0  0.469  7.185  61.1  4.9671    2  242.0   \n",
      "3    0.03237   0.0   2.18   0.0  0.458  6.998  45.8  6.0622    3  222.0   \n",
      "4    0.06905   0.0   2.18   0.0  0.458  7.147  54.2  6.0622    3  222.0   \n",
      "..       ...   ...    ...   ...    ...    ...   ...     ...  ...    ...   \n",
      "501  0.06263   0.0  11.93   0.0  0.573  6.593  69.1  2.4786    1  273.0   \n",
      "502  0.04527   0.0  11.93   0.0  0.573  6.120  76.7  2.2875    1  273.0   \n",
      "503  0.06076   0.0  11.93   0.0  0.573  6.976  91.0  2.1675    1  273.0   \n",
      "504  0.10959   0.0  11.93   0.0  0.573  6.794  89.3  2.3889    1  273.0   \n",
      "505  0.04741   0.0  11.93   0.0  0.573  6.030  80.8  2.5050    1  273.0   \n",
      "\n",
      "     PTRATIO       B  LSTAT  \n",
      "0       15.3  396.90   4.98  \n",
      "1       17.8  396.90   9.14  \n",
      "2       17.8  392.83   4.03  \n",
      "3       18.7  394.63   2.94  \n",
      "4       18.7  396.90   5.33  \n",
      "..       ...     ...    ...  \n",
      "501     21.0  391.99   9.67  \n",
      "502     21.0  396.90   9.08  \n",
      "503     21.0  396.90   5.64  \n",
      "504     21.0  393.45   6.48  \n",
      "505     21.0  396.90   7.88  \n",
      "\n",
      "[452 rows x 13 columns] 0      24.0\n",
      "1      21.6\n",
      "2      34.7\n",
      "3      33.4\n",
      "4      36.2\n",
      "       ... \n",
      "501    22.4\n",
      "502    20.6\n",
      "503    23.9\n",
      "504    22.0\n",
      "505    11.9\n",
      "Name: PRICE, Length: 452, dtype: float64\n"
     ]
    }
   ],
   "source": [
    "print(X,Y)"
   ]
  },
  {
   "cell_type": "code",
   "execution_count": 25,
   "id": "2587d9ac",
   "metadata": {},
   "outputs": [],
   "source": [
    "from sklearn.model_selection import train_test_split"
   ]
  },
  {
   "cell_type": "code",
   "execution_count": 26,
   "id": "88dc50db",
   "metadata": {
    "scrolled": true
   },
   "outputs": [],
   "source": [
    "X_train,X_test,y_train,y_test = train_test_split(X,Y,test_size=0.2,random_state=2)"
   ]
  },
  {
   "cell_type": "code",
   "execution_count": 27,
   "id": "f7f70408",
   "metadata": {},
   "outputs": [
    {
     "data": {
      "text/plain": [
       "(361, 13)"
      ]
     },
     "execution_count": 27,
     "metadata": {},
     "output_type": "execute_result"
    }
   ],
   "source": [
    "X_train.shape"
   ]
  },
  {
   "cell_type": "code",
   "execution_count": 28,
   "id": "5d7eab53",
   "metadata": {
    "scrolled": true
   },
   "outputs": [
    {
     "data": {
      "text/plain": [
       "(91, 13)"
      ]
     },
     "execution_count": 28,
     "metadata": {},
     "output_type": "execute_result"
    }
   ],
   "source": [
    "X_test.shape"
   ]
  },
  {
   "cell_type": "code",
   "execution_count": 29,
   "id": "4b5f1a7d",
   "metadata": {
    "scrolled": true
   },
   "outputs": [
    {
     "data": {
      "text/plain": [
       "(361,)"
      ]
     },
     "execution_count": 29,
     "metadata": {},
     "output_type": "execute_result"
    }
   ],
   "source": [
    "y_train.shape"
   ]
  },
  {
   "cell_type": "code",
   "execution_count": 30,
   "id": "4c1f6bf8",
   "metadata": {},
   "outputs": [
    {
     "data": {
      "text/plain": [
       "(91,)"
      ]
     },
     "execution_count": 30,
     "metadata": {},
     "output_type": "execute_result"
    }
   ],
   "source": [
    "y_test.shape"
   ]
  },
  {
   "cell_type": "code",
   "execution_count": 31,
   "id": "d133c809",
   "metadata": {},
   "outputs": [],
   "source": [
    "from sklearn.linear_model import LinearRegression"
   ]
  },
  {
   "cell_type": "code",
   "execution_count": 32,
   "id": "92330207",
   "metadata": {},
   "outputs": [],
   "source": [
    "model = LinearRegression()"
   ]
  },
  {
   "cell_type": "code",
   "execution_count": 33,
   "id": "8c89d716",
   "metadata": {
    "scrolled": true
   },
   "outputs": [
    {
     "data": {
      "text/html": [
       "<style>#sk-container-id-1 {color: black;background-color: white;}#sk-container-id-1 pre{padding: 0;}#sk-container-id-1 div.sk-toggleable {background-color: white;}#sk-container-id-1 label.sk-toggleable__label {cursor: pointer;display: block;width: 100%;margin-bottom: 0;padding: 0.3em;box-sizing: border-box;text-align: center;}#sk-container-id-1 label.sk-toggleable__label-arrow:before {content: \"▸\";float: left;margin-right: 0.25em;color: #696969;}#sk-container-id-1 label.sk-toggleable__label-arrow:hover:before {color: black;}#sk-container-id-1 div.sk-estimator:hover label.sk-toggleable__label-arrow:before {color: black;}#sk-container-id-1 div.sk-toggleable__content {max-height: 0;max-width: 0;overflow: hidden;text-align: left;background-color: #f0f8ff;}#sk-container-id-1 div.sk-toggleable__content pre {margin: 0.2em;color: black;border-radius: 0.25em;background-color: #f0f8ff;}#sk-container-id-1 input.sk-toggleable__control:checked~div.sk-toggleable__content {max-height: 200px;max-width: 100%;overflow: auto;}#sk-container-id-1 input.sk-toggleable__control:checked~label.sk-toggleable__label-arrow:before {content: \"▾\";}#sk-container-id-1 div.sk-estimator input.sk-toggleable__control:checked~label.sk-toggleable__label {background-color: #d4ebff;}#sk-container-id-1 div.sk-label input.sk-toggleable__control:checked~label.sk-toggleable__label {background-color: #d4ebff;}#sk-container-id-1 input.sk-hidden--visually {border: 0;clip: rect(1px 1px 1px 1px);clip: rect(1px, 1px, 1px, 1px);height: 1px;margin: -1px;overflow: hidden;padding: 0;position: absolute;width: 1px;}#sk-container-id-1 div.sk-estimator {font-family: monospace;background-color: #f0f8ff;border: 1px dotted black;border-radius: 0.25em;box-sizing: border-box;margin-bottom: 0.5em;}#sk-container-id-1 div.sk-estimator:hover {background-color: #d4ebff;}#sk-container-id-1 div.sk-parallel-item::after {content: \"\";width: 100%;border-bottom: 1px solid gray;flex-grow: 1;}#sk-container-id-1 div.sk-label:hover label.sk-toggleable__label {background-color: #d4ebff;}#sk-container-id-1 div.sk-serial::before {content: \"\";position: absolute;border-left: 1px solid gray;box-sizing: border-box;top: 0;bottom: 0;left: 50%;z-index: 0;}#sk-container-id-1 div.sk-serial {display: flex;flex-direction: column;align-items: center;background-color: white;padding-right: 0.2em;padding-left: 0.2em;position: relative;}#sk-container-id-1 div.sk-item {position: relative;z-index: 1;}#sk-container-id-1 div.sk-parallel {display: flex;align-items: stretch;justify-content: center;background-color: white;position: relative;}#sk-container-id-1 div.sk-item::before, #sk-container-id-1 div.sk-parallel-item::before {content: \"\";position: absolute;border-left: 1px solid gray;box-sizing: border-box;top: 0;bottom: 0;left: 50%;z-index: -1;}#sk-container-id-1 div.sk-parallel-item {display: flex;flex-direction: column;z-index: 1;position: relative;background-color: white;}#sk-container-id-1 div.sk-parallel-item:first-child::after {align-self: flex-end;width: 50%;}#sk-container-id-1 div.sk-parallel-item:last-child::after {align-self: flex-start;width: 50%;}#sk-container-id-1 div.sk-parallel-item:only-child::after {width: 0;}#sk-container-id-1 div.sk-dashed-wrapped {border: 1px dashed gray;margin: 0 0.4em 0.5em 0.4em;box-sizing: border-box;padding-bottom: 0.4em;background-color: white;}#sk-container-id-1 div.sk-label label {font-family: monospace;font-weight: bold;display: inline-block;line-height: 1.2em;}#sk-container-id-1 div.sk-label-container {text-align: center;}#sk-container-id-1 div.sk-container {/* jupyter's `normalize.less` sets `[hidden] { display: none; }` but bootstrap.min.css set `[hidden] { display: none !important; }` so we also need the `!important` here to be able to override the default hidden behavior on the sphinx rendered scikit-learn.org. See: https://github.com/scikit-learn/scikit-learn/issues/21755 */display: inline-block !important;position: relative;}#sk-container-id-1 div.sk-text-repr-fallback {display: none;}</style><div id=\"sk-container-id-1\" class=\"sk-top-container\"><div class=\"sk-text-repr-fallback\"><pre>LinearRegression()</pre><b>In a Jupyter environment, please rerun this cell to show the HTML representation or trust the notebook. <br />On GitHub, the HTML representation is unable to render, please try loading this page with nbviewer.org.</b></div><div class=\"sk-container\" hidden><div class=\"sk-item\"><div class=\"sk-estimator sk-toggleable\"><input class=\"sk-toggleable__control sk-hidden--visually\" id=\"sk-estimator-id-1\" type=\"checkbox\" checked><label for=\"sk-estimator-id-1\" class=\"sk-toggleable__label sk-toggleable__label-arrow\">LinearRegression</label><div class=\"sk-toggleable__content\"><pre>LinearRegression()</pre></div></div></div></div></div>"
      ],
      "text/plain": [
       "LinearRegression()"
      ]
     },
     "execution_count": 33,
     "metadata": {},
     "output_type": "execute_result"
    }
   ],
   "source": [
    "model.fit(X_train,y_train)"
   ]
  },
  {
   "cell_type": "code",
   "execution_count": 34,
   "id": "6df23145",
   "metadata": {},
   "outputs": [],
   "source": [
    "training_data_prediction = model.predict(X_train)"
   ]
  },
  {
   "cell_type": "code",
   "execution_count": 35,
   "id": "c7b52cb6",
   "metadata": {
    "scrolled": false
   },
   "outputs": [
    {
     "name": "stdout",
     "output_type": "stream",
     "text": [
      "[25.31601066 28.30530323 34.92322961 12.59835214 21.06932243 26.17930283\n",
      " 17.15782479 25.23480195 22.68600323 20.38261028 20.81081197 25.14913168\n",
      " 22.92106414 21.4198224  12.15159102 16.63520113 13.0190227  37.18118338\n",
      " 38.5911483  33.80300579 10.40369709 21.31014244 19.70347008 16.71345909\n",
      " 15.02883013 18.46775738 12.31382234 12.71353792 34.12077504 16.85450005\n",
      " 20.63421912 30.41717777 32.19902404 42.3699929  17.62422272 20.46208419\n",
      " 30.710175   33.79743607 13.65914568 19.27193798 21.36992745 29.8082414\n",
      " 20.57009424 30.18651054 28.90430481 15.53451274 26.30734903 33.60167603\n",
      " 22.54056951 23.18487853 37.18638673 29.6619023  25.32816483 25.93123584\n",
      " 11.50016291 15.92194973 19.17673883 25.54137006 10.89903732 34.23925495\n",
      " 21.24695781 31.23463303 20.24308464 19.12822484 30.93768058 34.99041239\n",
      " 34.52407303 44.20830606  2.53128832 15.33396646 44.64499374 22.65084649\n",
      " 29.69361173 36.043857   23.50957142 33.90501617 32.63895851 25.27867658\n",
      " 20.5142821  20.23399339 31.80785551 19.48199131 35.65712749 17.42648988\n",
      " 29.84898079  8.26385015 23.68483245 24.35176784 35.84228412 19.67845507\n",
      " 15.92644068 17.14252411 18.08251869  8.49776321 17.25644535 35.85285996\n",
      " 22.20947358 20.20993613 19.87982199 36.51570494 27.00694779 21.63772037\n",
      " 32.84198425 38.61944447 22.29188452 27.11440747 34.31098879 12.51512019\n",
      " 15.2191096  27.40251585 32.83700274 21.51076722 20.96187625 19.39438283\n",
      " 36.20674146 17.11102016 25.50985903 25.56620248 16.18708151 27.43291832\n",
      " 23.22725542 17.92941733 24.26830412 18.51187071 13.16649257 12.1116905\n",
      " 19.05392931 33.10719081 25.22436888 24.73776786 31.06429729 30.86849005\n",
      " 26.98654443 29.18064928 42.73665701 24.04377076 19.04497504 14.60261604\n",
      " 28.83073821 32.03475417 21.28161607 18.7351031  25.10496084 17.76832737\n",
      " 27.95006508 31.09515801 16.63909685 24.45599473 13.10897066 21.92661111\n",
      " 39.00675828 22.92235246 17.42441532 27.0473788  31.10241424 14.17284117\n",
      " 33.53302608 36.22262811 22.42013386 25.81040499 22.92782063 18.28079464\n",
      " 21.19591096 29.19380851 22.21056974 25.49582447 24.19969018 28.65533677\n",
      " 20.57353001 25.38833165 41.02485769 14.40068814 18.5031249  26.22744043\n",
      " 28.81793141 25.89388834 22.75242662 20.21179675 33.33476631 12.97403813\n",
      " 21.74153407 16.2380257  38.03173101 22.20030295 20.81721101 19.81804113\n",
      " 35.20316473 20.04535866 23.55409209 21.54581802 26.02625034 19.35766702\n",
      " 23.60049361 14.44998909 18.62593468 21.53992049 26.03197996 26.67307996\n",
      " 22.8733474  21.7425566   6.606961   32.88398959 11.82002594 19.71572767\n",
      " 13.19215733 17.73774165 21.92593815 32.10687642 44.75904255 16.52066411\n",
      " 20.75669459 19.90529898 20.28773615  9.62064262 40.08707865 14.45704335\n",
      " 19.27726293 30.622126   31.99259465 17.67918296 22.5831195  28.22873403\n",
      " 18.05913926 16.21766698 21.16456894 20.97260835 19.47647793 20.54520002\n",
      " 17.16383476 23.86418479 15.17587894 30.09422013 15.93569268 24.5669343\n",
      " 17.66971384 28.55382154 14.67838585 20.40154377 20.43379509 22.8253416\n",
      " 31.03095664 28.47143687 12.37433189 24.34630808 30.84615078 14.24184139\n",
      " 15.64004117 24.56376165 29.3573053  32.9469116   9.60904719 28.20824827\n",
      " 19.74441407 17.81664364  9.22440836 29.72106341 12.49691241 36.11551246\n",
      " 20.83269869 37.27773274 19.2683991  23.10754958 11.56923711 15.59327784\n",
      " 14.63237858 27.28138475 21.21499963 39.26510936 18.88517953 31.43903676\n",
      " 29.65364382 24.15210958 27.93536897 36.67699162 21.97099396 17.78582632\n",
      " 26.9611753  23.00548444 25.62272756 25.04551503 18.47441354 21.38004491\n",
      " 24.27443941 20.10096997 20.00096118 17.00659007 12.63826732 27.63575752\n",
      " 13.44628216 23.926738   22.51531341 15.42821108 26.74002114 24.60389445\n",
      " 24.09687885 24.72888404 26.02900485 15.35927279 19.82440486 23.87875124\n",
      " 23.81988215 12.62765206 21.40109041 19.99180887 16.69260827 38.23444971\n",
      " 26.91925455 16.0417899  28.84599152 16.3075798  16.80635655 14.4320709\n",
      "  7.88696179 21.14458874 20.53542699 28.17549329 27.92150558 28.49981466\n",
      " 18.23779677 22.03820845 15.41875758 21.60001241 28.2082539  36.23467814\n",
      " 31.34664253 25.36237562 19.17967538 21.23429771 19.16125693 21.99947929\n",
      " 13.57890128 22.55593498 20.35125526 23.77308071 21.10670826 23.34822905\n",
      " 35.28533694 19.07249235 40.7394511  22.83912491 25.5922055  23.40757196\n",
      " 19.72044711 23.35695008 24.25662064 26.52964163 21.33554927 16.98798376\n",
      " 25.08538793 20.40126093 28.54232954 21.22203969 42.85113436 34.82957184\n",
      " 24.43574281 23.90434371 31.87642188 15.39772662 24.52731552 19.84893162\n",
      " 26.6166215 ]\n"
     ]
    }
   ],
   "source": [
    "print(training_data_prediction)"
   ]
  },
  {
   "cell_type": "code",
   "execution_count": null,
   "id": "653d3434",
   "metadata": {},
   "outputs": [],
   "source": [
    "from sklearn.metrics import r2_score"
   ]
  },
  {
   "cell_type": "code",
   "execution_count": 36,
   "id": "08212ca4",
   "metadata": {
    "scrolled": true
   },
   "outputs": [
    {
     "data": {
      "text/html": [
       "<style>#sk-container-id-2 {color: black;background-color: white;}#sk-container-id-2 pre{padding: 0;}#sk-container-id-2 div.sk-toggleable {background-color: white;}#sk-container-id-2 label.sk-toggleable__label {cursor: pointer;display: block;width: 100%;margin-bottom: 0;padding: 0.3em;box-sizing: border-box;text-align: center;}#sk-container-id-2 label.sk-toggleable__label-arrow:before {content: \"▸\";float: left;margin-right: 0.25em;color: #696969;}#sk-container-id-2 label.sk-toggleable__label-arrow:hover:before {color: black;}#sk-container-id-2 div.sk-estimator:hover label.sk-toggleable__label-arrow:before {color: black;}#sk-container-id-2 div.sk-toggleable__content {max-height: 0;max-width: 0;overflow: hidden;text-align: left;background-color: #f0f8ff;}#sk-container-id-2 div.sk-toggleable__content pre {margin: 0.2em;color: black;border-radius: 0.25em;background-color: #f0f8ff;}#sk-container-id-2 input.sk-toggleable__control:checked~div.sk-toggleable__content {max-height: 200px;max-width: 100%;overflow: auto;}#sk-container-id-2 input.sk-toggleable__control:checked~label.sk-toggleable__label-arrow:before {content: \"▾\";}#sk-container-id-2 div.sk-estimator input.sk-toggleable__control:checked~label.sk-toggleable__label {background-color: #d4ebff;}#sk-container-id-2 div.sk-label input.sk-toggleable__control:checked~label.sk-toggleable__label {background-color: #d4ebff;}#sk-container-id-2 input.sk-hidden--visually {border: 0;clip: rect(1px 1px 1px 1px);clip: rect(1px, 1px, 1px, 1px);height: 1px;margin: -1px;overflow: hidden;padding: 0;position: absolute;width: 1px;}#sk-container-id-2 div.sk-estimator {font-family: monospace;background-color: #f0f8ff;border: 1px dotted black;border-radius: 0.25em;box-sizing: border-box;margin-bottom: 0.5em;}#sk-container-id-2 div.sk-estimator:hover {background-color: #d4ebff;}#sk-container-id-2 div.sk-parallel-item::after {content: \"\";width: 100%;border-bottom: 1px solid gray;flex-grow: 1;}#sk-container-id-2 div.sk-label:hover label.sk-toggleable__label {background-color: #d4ebff;}#sk-container-id-2 div.sk-serial::before {content: \"\";position: absolute;border-left: 1px solid gray;box-sizing: border-box;top: 0;bottom: 0;left: 50%;z-index: 0;}#sk-container-id-2 div.sk-serial {display: flex;flex-direction: column;align-items: center;background-color: white;padding-right: 0.2em;padding-left: 0.2em;position: relative;}#sk-container-id-2 div.sk-item {position: relative;z-index: 1;}#sk-container-id-2 div.sk-parallel {display: flex;align-items: stretch;justify-content: center;background-color: white;position: relative;}#sk-container-id-2 div.sk-item::before, #sk-container-id-2 div.sk-parallel-item::before {content: \"\";position: absolute;border-left: 1px solid gray;box-sizing: border-box;top: 0;bottom: 0;left: 50%;z-index: -1;}#sk-container-id-2 div.sk-parallel-item {display: flex;flex-direction: column;z-index: 1;position: relative;background-color: white;}#sk-container-id-2 div.sk-parallel-item:first-child::after {align-self: flex-end;width: 50%;}#sk-container-id-2 div.sk-parallel-item:last-child::after {align-self: flex-start;width: 50%;}#sk-container-id-2 div.sk-parallel-item:only-child::after {width: 0;}#sk-container-id-2 div.sk-dashed-wrapped {border: 1px dashed gray;margin: 0 0.4em 0.5em 0.4em;box-sizing: border-box;padding-bottom: 0.4em;background-color: white;}#sk-container-id-2 div.sk-label label {font-family: monospace;font-weight: bold;display: inline-block;line-height: 1.2em;}#sk-container-id-2 div.sk-label-container {text-align: center;}#sk-container-id-2 div.sk-container {/* jupyter's `normalize.less` sets `[hidden] { display: none; }` but bootstrap.min.css set `[hidden] { display: none !important; }` so we also need the `!important` here to be able to override the default hidden behavior on the sphinx rendered scikit-learn.org. See: https://github.com/scikit-learn/scikit-learn/issues/21755 */display: inline-block !important;position: relative;}#sk-container-id-2 div.sk-text-repr-fallback {display: none;}</style><div id=\"sk-container-id-2\" class=\"sk-top-container\"><div class=\"sk-text-repr-fallback\"><pre>LinearRegression()</pre><b>In a Jupyter environment, please rerun this cell to show the HTML representation or trust the notebook. <br />On GitHub, the HTML representation is unable to render, please try loading this page with nbviewer.org.</b></div><div class=\"sk-container\" hidden><div class=\"sk-item\"><div class=\"sk-estimator sk-toggleable\"><input class=\"sk-toggleable__control sk-hidden--visually\" id=\"sk-estimator-id-2\" type=\"checkbox\" checked><label for=\"sk-estimator-id-2\" class=\"sk-toggleable__label sk-toggleable__label-arrow\">LinearRegression</label><div class=\"sk-toggleable__content\"><pre>LinearRegression()</pre></div></div></div></div></div>"
      ],
      "text/plain": [
       "LinearRegression()"
      ]
     },
     "execution_count": 36,
     "metadata": {},
     "output_type": "execute_result"
    }
   ],
   "source": [
    "regressor = LinearRegression()\n",
    "regressor.fit(X_train,y_train)"
   ]
  },
  {
   "cell_type": "code",
   "execution_count": 37,
   "id": "393c4d4d",
   "metadata": {},
   "outputs": [],
   "source": [
    "y_pred = regressor.predict(X_test)"
   ]
  },
  {
   "cell_type": "code",
   "execution_count": 45,
   "id": "21cca189",
   "metadata": {
    "scrolled": true
   },
   "outputs": [
    {
     "data": {
      "text/plain": [
       "array([17.19803653, 32.73850935, 24.83607567, 15.12152266, 31.58529793,\n",
       "       24.65359964, 15.70565728, 19.32585813, 23.05705685, 15.51691722,\n",
       "       28.46863266, 12.90904271, 20.9974024 , 23.89391445, 26.84487752,\n",
       "       39.13236304, 29.79635173, 11.54608801, 25.27358251, 22.27606937,\n",
       "       28.83978816, 36.44556097, 27.22064193, 23.39197577, 40.84044947,\n",
       "       28.32214485, 14.02066316, 21.38156816, 17.64979889, 25.27193394,\n",
       "       30.76884238, 23.09607493, 27.56182159, 32.30627529, 25.0119856 ,\n",
       "       27.49354067, 31.07744876, 28.65064122, 34.00350155, 24.21738851,\n",
       "        6.84406531, 41.43199965, 17.06625518, 20.63971149, 31.06061249,\n",
       "       40.14048331, 34.53222786, 19.78231313, 20.60778377,  1.88086265,\n",
       "       21.97423258, 21.88634661, 23.84680858, 31.08337601, 26.03455284,\n",
       "       20.28985489, 26.31239701, 27.91715241, 19.46746281, 26.96609564,\n",
       "       20.09627342, 23.71233106, 24.56861401, 31.53605524, 12.8141225 ,\n",
       "       11.66605164, 23.29288107, 20.57543877, 25.93883992, 24.21577358,\n",
       "       32.68848526, 21.47970257, 23.78097606, 41.42114887, 34.51986174,\n",
       "       23.00741033, 18.9879795 , 31.42518587, 33.935039  , 24.58673279,\n",
       "        8.1705161 , 22.35332445, 17.96097012, 19.14688563, 21.24375261,\n",
       "       19.97758871, 39.39435454, 24.26976264, 31.68527297, 18.79961307,\n",
       "       35.07765202])"
      ]
     },
     "execution_count": 45,
     "metadata": {},
     "output_type": "execute_result"
    }
   ],
   "source": [
    "y_pred"
   ]
  },
  {
   "cell_type": "code",
   "execution_count": 46,
   "id": "615b0365",
   "metadata": {
    "scrolled": true
   },
   "outputs": [
    {
     "data": {
      "text/plain": [
       "390    15.1\n",
       "303    33.1\n",
       "269    20.7\n",
       "142    13.4\n",
       "253    42.8\n",
       "       ... \n",
       "232    41.7\n",
       "154    17.0\n",
       "178    29.9\n",
       "447    12.6\n",
       "277    33.1\n",
       "Name: PRICE, Length: 91, dtype: float64"
      ]
     },
     "execution_count": 46,
     "metadata": {},
     "output_type": "execute_result"
    }
   ],
   "source": [
    "y_test"
   ]
  },
  {
   "cell_type": "code",
   "execution_count": 40,
   "id": "93576c49",
   "metadata": {},
   "outputs": [],
   "source": [
    "intercept = regressor.intercept_\n",
    "coefficients = regressor.coef_"
   ]
  },
  {
   "cell_type": "code",
   "execution_count": 41,
   "id": "d8666910",
   "metadata": {
    "scrolled": true
   },
   "outputs": [
    {
     "name": "stdout",
     "output_type": "stream",
     "text": [
      "27.9218170737729\n",
      "[-8.43431715e-02  3.51092948e-02  2.38999738e-02  2.97345857e+00\n",
      " -1.04310498e+01  4.18546757e+00  4.10141096e-03 -1.23117847e+00\n",
      "  2.36496464e-01 -9.64702163e-03 -9.10466552e-01  1.20970294e-02\n",
      " -6.33312616e-01]\n"
     ]
    }
   ],
   "source": [
    "print(intercept)\n",
    "print(coefficients)"
   ]
  },
  {
   "cell_type": "code",
   "execution_count": 42,
   "id": "1e4e42db",
   "metadata": {},
   "outputs": [],
   "source": [
    "from sklearn.metrics import r2_score"
   ]
  },
  {
   "cell_type": "code",
   "execution_count": 43,
   "id": "e93c4070",
   "metadata": {},
   "outputs": [
    {
     "data": {
      "text/plain": [
       "0.7403075662586567"
      ]
     },
     "execution_count": 43,
     "metadata": {},
     "output_type": "execute_result"
    }
   ],
   "source": [
    "r2_score(y_test,y_pred)"
   ]
  }
 ],
 "metadata": {
  "kernelspec": {
   "display_name": "Python 3 (ipykernel)",
   "language": "python",
   "name": "python3"
  },
  "language_info": {
   "codemirror_mode": {
    "name": "ipython",
    "version": 3
   },
   "file_extension": ".py",
   "mimetype": "text/x-python",
   "name": "python",
   "nbconvert_exporter": "python",
   "pygments_lexer": "ipython3",
   "version": "3.10.9"
  }
 },
 "nbformat": 4,
 "nbformat_minor": 5
}

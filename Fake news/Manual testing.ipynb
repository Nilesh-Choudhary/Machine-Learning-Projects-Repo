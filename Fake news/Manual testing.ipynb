{
 "cells": [
  {
   "cell_type": "markdown",
   "id": "6ef74ace",
   "metadata": {},
   "source": [
    "# manual prediction"
   ]
  },
  {
   "cell_type": "code",
   "execution_count": null,
   "id": "1c792f64",
   "metadata": {},
   "outputs": [],
   "source": [
    "import re\n",
    "from nltk.stem import WordNetLemmatizer\n",
    "import pickle\n",
    "from sklearn.feature_extraction.text import TfidfVectorizer\n",
    "import string\n",
    "wo = WordNetLemmatizer()\n",
    "\n",
    "def wordopt(text):\n",
    "    text = text.lower()\n",
    "    text = re.sub('\\[.*?\\]', '', text)\n",
    "    text = re.sub(\"\\\\W\",\" \",text) \n",
    "    text = re.sub('https?://\\S+|www\\.\\S+', '', text)\n",
    "    text = re.sub('<.*?>+', '', text)\n",
    "    text = re.sub('[%s]' % re.escape(string.punctuation), '', text)\n",
    "    text = re.sub('\\n', '', text)\n",
    "    text = re.sub('\\w*\\d\\w*', '', text)    \n",
    "    return text\n",
    "\n",
    "# Load vectorizer and model\n",
    "vectorizer = pickle.load(open('vectorizer.pkl','rb'))\n",
    "mnb = pickle.load(open('rfc.pkl','rb'))\n",
    "\n",
    "strr = input('Enter Your Message: ')\n",
    "print(\"-------------------------------\")\n",
    "\n",
    "a = wordopt(strr)\n",
    "example_counts = vectorizer.transform([a])\n",
    "prediction = mnb.predict(example_counts)\n",
    "\n",
    "if prediction[0] == 0:\n",
    "    print('fake news')\n",
    "elif prediction[0] == 1:\n",
    "    print('Not a fake news')\n"
   ]
  }
 ],
 "metadata": {
  "kernelspec": {
   "display_name": "Python 3 (ipykernel)",
   "language": "python",
   "name": "python3"
  },
  "language_info": {
   "codemirror_mode": {
    "name": "ipython",
    "version": 3
   },
   "file_extension": ".py",
   "mimetype": "text/x-python",
   "name": "python",
   "nbconvert_exporter": "python",
   "pygments_lexer": "ipython3",
   "version": "3.11.5"
  }
 },
 "nbformat": 4,
 "nbformat_minor": 5
}
